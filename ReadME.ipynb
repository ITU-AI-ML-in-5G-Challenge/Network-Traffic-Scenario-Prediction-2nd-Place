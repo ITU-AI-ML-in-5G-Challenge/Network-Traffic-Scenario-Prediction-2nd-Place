{
 "cells": [
  {
   "cell_type": "markdown",
   "id": "08115a13",
   "metadata": {},
   "source": [
    "Structure\n",
    "- Notebooks\n",
    "\n",
    "    - Notebook-Training-Network_Traffic_Scenerio-1.ipynb\n",
    "    - Notebook-Training-Network_Traffic_Scenerio-2.ipynb\n",
    "    - Notebook-Training-Network_Traffic_Scenerio-3.ipynb \n",
    "    - Notebook-Ensemble-Network_Traffic_Scenerio.ipynb\n",
    "\n",
    "- Others\n",
    "    - SampleSubmission.csv\n",
    "    - Train_data [https://zindi.africa/competitions/network-traffic-scenario-prediction-challenge/data]\n",
    "        ....csv\n",
    "    - Test_data [https://zindi.africa/competitions/network-traffic-scenario-prediction-challenge/data]\n",
    "        ....csv"
   ]
  },
  {
   "cell_type": "markdown",
   "id": "db240d7b",
   "metadata": {},
   "source": [
    "The experiments for these task are provided in 3 different notebooks.\n",
    "\n",
    "    - Notebook-Training-Network_Traffic_Scenerio-1.ipynb\n",
    "    - Notebook-Training-Network_Traffic_Scenerio-2.ipynb\n",
    "    - Notebook-Training-Network_Traffic_Scenerio-3.ipynb\n",
    "These notebooks are to be run first. Actually the difference between them is the configuration. All experiments works with the same architectures.\n",
    "\n",
    "Finally, after running the training notebooks above, the ensembling notebook can be executed as well.\n",
    "\n",
    "    - Notebook-Ensemble-Network_Traffic_Scenerio.ipynb\n",
    " \n",
    " Note:\n",
    "1. Each experiment notebook leads to the saving of both checkpoints and a single submission file. The checkpoints will have a main folder [logs] and the submissions will be saved in [submissions] automatically with the execution of the experiments notebooks.\n",
    " \n",
    "2. Executing the ensemble notebook (MUST BE AFTER TRAINING] will result in the creation of a new folder [ensembles] hosting only a single ensembles predictions [final.csv] which is my final submission, expected to have similar result on the leader board.\n"
   ]
  },
  {
   "cell_type": "code",
   "execution_count": null,
   "id": "13a22c3e",
   "metadata": {},
   "outputs": [],
   "source": []
  }
 ],
 "metadata": {
  "kernelspec": {
   "display_name": "ai4ex",
   "language": "python",
   "name": "ai4ex"
  },
  "language_info": {
   "codemirror_mode": {
    "name": "ipython",
    "version": 3
   },
   "file_extension": ".py",
   "mimetype": "text/x-python",
   "name": "python",
   "nbconvert_exporter": "python",
   "pygments_lexer": "ipython3",
   "version": "3.9.16"
  }
 },
 "nbformat": 4,
 "nbformat_minor": 5
}
